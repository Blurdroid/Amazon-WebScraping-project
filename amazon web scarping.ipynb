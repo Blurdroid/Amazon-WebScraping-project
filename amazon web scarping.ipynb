{
 "cells": [
  {
   "cell_type": "code",
   "execution_count": 5,
   "metadata": {},
   "outputs": [
    {
     "name": "stdout",
     "output_type": "stream",
     "text": [
      "Collecting selenium\n",
      "  Downloading selenium-4.7.2-py3-none-any.whl (6.3 MB)\n",
      "     ---------------------------------------- 6.3/6.3 MB 2.5 MB/s eta 0:00:00\n",
      "Collecting trio-websocket~=0.9\n",
      "  Downloading trio_websocket-0.9.2-py3-none-any.whl (16 kB)\n",
      "Requirement already satisfied: certifi>=2021.10.8 in c:\\users\\ziad\\anaconda3\\lib\\site-packages (from selenium) (2022.9.24)\n",
      "Collecting trio~=0.17\n",
      "  Downloading trio-0.22.0-py3-none-any.whl (384 kB)\n",
      "     -------------------------------------- 384.9/384.9 kB 3.0 MB/s eta 0:00:00\n",
      "Requirement already satisfied: urllib3[socks]~=1.26 in c:\\users\\ziad\\anaconda3\\lib\\site-packages (from selenium) (1.26.12)\n",
      "Collecting async-generator>=1.9\n",
      "  Downloading async_generator-1.10-py3-none-any.whl (18 kB)\n",
      "Requirement already satisfied: idna in c:\\users\\ziad\\anaconda3\\lib\\site-packages (from trio~=0.17->selenium) (3.4)\n",
      "Requirement already satisfied: sniffio in c:\\users\\ziad\\anaconda3\\lib\\site-packages (from trio~=0.17->selenium) (1.2.0)\n",
      "Requirement already satisfied: sortedcontainers in c:\\users\\ziad\\anaconda3\\lib\\site-packages (from trio~=0.17->selenium) (2.4.0)\n",
      "Requirement already satisfied: cffi>=1.14 in c:\\users\\ziad\\anaconda3\\lib\\site-packages (from trio~=0.17->selenium) (1.15.1)\n",
      "Collecting exceptiongroup>=1.0.0rc9\n",
      "  Downloading exceptiongroup-1.0.4-py3-none-any.whl (14 kB)\n",
      "Collecting outcome\n",
      "  Downloading outcome-1.2.0-py2.py3-none-any.whl (9.7 kB)\n",
      "Requirement already satisfied: attrs>=19.2.0 in c:\\users\\ziad\\anaconda3\\lib\\site-packages (from trio~=0.17->selenium) (21.4.0)\n",
      "Collecting wsproto>=0.14\n",
      "  Downloading wsproto-1.2.0-py3-none-any.whl (24 kB)\n",
      "Requirement already satisfied: PySocks!=1.5.7,<2.0,>=1.5.6 in c:\\users\\ziad\\anaconda3\\lib\\site-packages (from urllib3[socks]~=1.26->selenium) (1.7.1)\n",
      "Requirement already satisfied: pycparser in c:\\users\\ziad\\anaconda3\\lib\\site-packages (from cffi>=1.14->trio~=0.17->selenium) (2.21)\n",
      "Collecting h11<1,>=0.9.0\n",
      "  Downloading h11-0.14.0-py3-none-any.whl (58 kB)\n",
      "     ---------------------------------------- 58.3/58.3 kB 3.0 MB/s eta 0:00:00\n",
      "Installing collected packages: outcome, h11, exceptiongroup, async-generator, wsproto, trio, trio-websocket, selenium\n",
      "Successfully installed async-generator-1.10 exceptiongroup-1.0.4 h11-0.14.0 outcome-1.2.0 selenium-4.7.2 trio-0.22.0 trio-websocket-0.9.2 wsproto-1.2.0\n",
      "Note: you may need to restart the kernel to use updated packages.\n"
     ]
    }
   ],
   "source": [
    "pip install selenium"
   ]
  },
  {
   "cell_type": "code",
   "execution_count": 29,
   "metadata": {},
   "outputs": [],
   "source": [
    "#import libraires\n",
    "import csv\n",
    "from bs4 import BeautifulSoup"
   ]
  },
  {
   "cell_type": "code",
   "execution_count": 30,
   "metadata": {},
   "outputs": [],
   "source": [
    "#Fire fox and chrome\n",
    "from selenium import webdriver"
   ]
  },
  {
   "cell_type": "markdown",
   "metadata": {},
   "source": [
    "### startup the web driver"
   ]
  },
  {
   "cell_type": "code",
   "execution_count": 31,
   "metadata": {},
   "outputs": [],
   "source": [
    "driver = webdriver.Chrome()"
   ]
  },
  {
   "cell_type": "code",
   "execution_count": 32,
   "metadata": {},
   "outputs": [],
   "source": [
    "url = 'https://www.amazon.com'\n",
    "driver.get(url)"
   ]
  },
  {
   "cell_type": "code",
   "execution_count": 5,
   "metadata": {},
   "outputs": [],
   "source": [
    "#بتخليني اسرش جوه ال url النا بحطه الهو الtemplate\n",
    "def get_url(search_text):\n",
    "    \"\"\"Generate a url from search text\"\"\"\n",
    "    template = 'https://www.amazon.com/s?k={}&crid=2JTVXJWSKO5WZ&sprefix=ultrawide+monitor%2Caps%2C245&ref=nb_sb_noss_1'\n",
    "    search_term = search_text.replace(' ','+')\n",
    "    return template.format(search_term)"
   ]
  },
  {
   "cell_type": "code",
   "execution_count": 6,
   "metadata": {},
   "outputs": [
    {
     "name": "stdout",
     "output_type": "stream",
     "text": [
      "https://www.amazon.com/s?k=ultrawide+monitor&crid=2JTVXJWSKO5WZ&sprefix=ultrawide+monitor%2Caps%2C245&ref=nb_sb_noss_1\n"
     ]
    }
   ],
   "source": [
    "url = get_url('ultrawide monitor')\n",
    "print(url)"
   ]
  },
  {
   "cell_type": "code",
   "execution_count": 7,
   "metadata": {},
   "outputs": [],
   "source": [
    "driver.get(url)"
   ]
  },
  {
   "cell_type": "markdown",
   "metadata": {},
   "source": [
    "### extract the collection "
   ]
  },
  {
   "cell_type": "code",
   "execution_count": 8,
   "metadata": {},
   "outputs": [],
   "source": [
    "soup = BeautifulSoup(driver.page_source, 'html.parser')"
   ]
  },
  {
   "cell_type": "code",
   "execution_count": 9,
   "metadata": {},
   "outputs": [],
   "source": [
    "results = soup.find_all(\"div\", {\"data-component-type\" : \"s-search-result\"})"
   ]
  },
  {
   "cell_type": "code",
   "execution_count": 10,
   "metadata": {},
   "outputs": [
    {
     "data": {
      "text/plain": [
       "22"
      ]
     },
     "execution_count": 10,
     "metadata": {},
     "output_type": "execute_result"
    }
   ],
   "source": [
    "len(results)"
   ]
  },
  {
   "cell_type": "markdown",
   "metadata": {},
   "source": [
    "### prototype the record"
   ]
  },
  {
   "cell_type": "code",
   "execution_count": 23,
   "metadata": {},
   "outputs": [],
   "source": [
    "item = results[0] #first product in amazon "
   ]
  },
  {
   "cell_type": "code",
   "execution_count": 25,
   "metadata": {},
   "outputs": [],
   "source": [
    "atag = item.h2.a #the header of the first product in amazon "
   ]
  },
  {
   "cell_type": "code",
   "execution_count": 65,
   "metadata": {},
   "outputs": [],
   "source": [
    "#the header with html tags\n",
    "# atag "
   ]
  },
  {
   "cell_type": "code",
   "execution_count": 32,
   "metadata": {},
   "outputs": [
    {
     "data": {
      "text/plain": [
       "'Deco Gear 35” Curved Gaming Ultrawide Monitor, 3440x1440, 120hz, 1ms MPRT, 21:9, 99% sRGB'"
      ]
     },
     "execution_count": 32,
     "metadata": {},
     "output_type": "execute_result"
    }
   ],
   "source": [
    "desc = atag.text.strip() # we used text.strip() to remove unseful html tag and keep the header only "
   ]
  },
  {
   "cell_type": "markdown",
   "metadata": {},
   "source": [
    "### fetch price from amazon "
   ]
  },
  {
   "cell_type": "code",
   "execution_count": 51,
   "metadata": {},
   "outputs": [],
   "source": [
    "price = soup.find_all(\"span\", {\"class\": \"a-price\"})"
   ]
  },
  {
   "cell_type": "code",
   "execution_count": 64,
   "metadata": {},
   "outputs": [
    {
     "data": {
      "text/plain": [
       "'$349.99$349.99'"
      ]
     },
     "execution_count": 64,
     "metadata": {},
     "output_type": "execute_result"
    }
   ],
   "source": [
    "price[0].text"
   ]
  },
  {
   "cell_type": "markdown",
   "metadata": {},
   "source": [
    "### fetch rating from amazon"
   ]
  },
  {
   "cell_type": "code",
   "execution_count": 55,
   "metadata": {},
   "outputs": [],
   "source": [
    "rating = soup.find_all(\"i\", {\"class\": \"a-icon a-icon-star-small a-star-small-4-5 aok-align-bottom\"})"
   ]
  },
  {
   "cell_type": "code",
   "execution_count": 57,
   "metadata": {},
   "outputs": [
    {
     "data": {
      "text/plain": [
       "'4.6 out of 5 stars'"
      ]
     },
     "execution_count": 57,
     "metadata": {},
     "output_type": "execute_result"
    }
   ],
   "source": [
    "rating[0].text"
   ]
  },
  {
   "cell_type": "markdown",
   "metadata": {},
   "source": [
    "### fetch review count for every product in amazon"
   ]
  },
  {
   "cell_type": "code",
   "execution_count": 67,
   "metadata": {},
   "outputs": [],
   "source": [
    "review_count = soup.find_all(\"span\", {\"class\": \"a-size-base s-underline-text\"})"
   ]
  },
  {
   "cell_type": "code",
   "execution_count": 70,
   "metadata": {},
   "outputs": [
    {
     "data": {
      "text/plain": [
       "'(733)'"
      ]
     },
     "execution_count": 70,
     "metadata": {},
     "output_type": "execute_result"
    }
   ],
   "source": [
    "review_count[0].text"
   ]
  },
  {
   "cell_type": "markdown",
   "metadata": {},
   "source": [
    "## Generalize the pattern "
   ]
  },
  {
   "cell_type": "code",
   "execution_count": 11,
   "metadata": {},
   "outputs": [],
   "source": [
    "def extract_record(item):\n",
    "    \"\"\"Extract and return data from a single record\"\"\"\n",
    "    \n",
    "    # description and url\n",
    "    atag = item.h2.a\n",
    "    description = atag.text.strip()\n",
    "    url = 'https://www.amazon.com' + atag.get('href')\n",
    "    \n",
    "    # product price\n",
    "    price = soup.find(\"span\", {\"class\": \"a-price\"}).text\n",
    "    \n",
    "    # rating and review count\n",
    "    rating = item.i.text\n",
    "    review_count = soup.find(\"span\", {\"class\": \"a-size-base s-underline-text\"}).text\n",
    "    \n",
    "    result = (description, price, rating, review_count, url)\n",
    "    \n",
    "    return result"
   ]
  },
  {
   "cell_type": "code",
   "execution_count": 12,
   "metadata": {},
   "outputs": [],
   "source": [
    "records = []\n",
    "\n",
    "# get all search results\n",
    "results = soup.find_all('div', {'data-component-type': 's-search-result'})\n",
    "\n",
    "# extract data from each results\n",
    "for item in results:\n",
    "    records.append(extract_record(item))"
   ]
  },
  {
   "cell_type": "markdown",
   "metadata": {},
   "source": [
    "### Handling errors"
   ]
  },
  {
   "cell_type": "code",
   "execution_count": 13,
   "metadata": {},
   "outputs": [],
   "source": [
    "def extract_record(item):\n",
    "    \"\"\"Extract and return data from a single record\"\"\"\n",
    "    \n",
    "    # description and url\n",
    "    atag = item.h2.a\n",
    "    description = atag.text.strip()\n",
    "    url = 'https://www.amazon.com' + atag.get('href')\n",
    "    try:\n",
    "        # product price\n",
    "        price = soup.find(\"span\", {\"class\": \"a-price\"}).text\n",
    "    except AttributeError:\n",
    "        return\n",
    "    \n",
    "    try:\n",
    "        # rating and review count\n",
    "        rating = item.i.text\n",
    "        review_count = soup.find(\"span\", {\"class\": \"a-size-base s-underline-text\"}).text\n",
    "    except AttributeError:\n",
    "        rating = '' #empty string \n",
    "        review_count = ''# empty string \n",
    "        \n",
    "    result = (description, price, rating, review_count, url) #tuple\n",
    "    \n",
    "    return result"
   ]
  },
  {
   "cell_type": "code",
   "execution_count": 14,
   "metadata": {},
   "outputs": [],
   "source": [
    "records = []\n",
    "\n",
    "# get all search results\n",
    "results = soup.find_all('div', {'data-component-type': 's-search-result'})\n",
    "\n",
    "# extract data from each results\n",
    "for item in results:\n",
    "    records.append(extract_record(item))"
   ]
  },
  {
   "cell_type": "code",
   "execution_count": null,
   "metadata": {},
   "outputs": [],
   "source": []
  },
  {
   "cell_type": "code",
   "execution_count": null,
   "metadata": {},
   "outputs": [],
   "source": []
  },
  {
   "cell_type": "markdown",
   "metadata": {},
   "source": [
    "### Getting to the next page"
   ]
  },
  {
   "cell_type": "code",
   "execution_count": null,
   "metadata": {},
   "outputs": [],
   "source": [
    "def get_url(search_text):\n",
    "    \"\"\"Generate a url from search text\"\"\"\n",
    "    template = 'https://www.amazon.com/s?k={}&ref=nb_sb_noss_1'\n",
    "    search_term = search_text.replace(' ', '+')\n",
    "    \n",
    "    # add term query to url\n",
    "    url = template.format(search_term)\n",
    "    \n",
    "    # add page query placeholder\n",
    "    url += '&page={}'\n",
    "        \n",
    "    return url"
   ]
  },
  {
   "cell_type": "markdown",
   "metadata": {},
   "source": [
    "### putting it all together"
   ]
  },
  {
   "cell_type": "code",
   "execution_count": 27,
   "metadata": {},
   "outputs": [],
   "source": [
    "import csv\n",
    "from bs4 import BeautifulSoup\n",
    "from selenium import webdriver\n",
    "\n",
    "\n",
    "def get_url(search_text):\n",
    "    \"\"\"Generate a url from search text\"\"\"\n",
    "    template = 'https://www.amazon.com/s?k={}&ref=nb_sb_noss_1'\n",
    "    search_term = search_text.replace(' ', '+')\n",
    "    \n",
    "    # add term query to url\n",
    "    url = template.format(search_term)\n",
    "    \n",
    "    # add page query placeholder\n",
    "    url += '&page{}'\n",
    "        \n",
    "    return url\n",
    "\n",
    "def extract_record(item):\n",
    "    \"\"\"Extract and return data from a single record\"\"\"\n",
    "    \n",
    "    # description and url\n",
    "    atag = item.h2.a\n",
    "    description = atag.text.strip()\n",
    "    url = 'https://www.amazon.com' + atag.get('href')\n",
    "    try:\n",
    "        # product price\n",
    "        price_parent = item.find('span', 'a-price')\n",
    "        price = price_parent.find('span', 'a-offscreen').text\n",
    "    except AttributeError:\n",
    "        return\n",
    "    \n",
    "    try:\n",
    "        # rating and review count\n",
    "        rating = soup.find(\"i\", {\"class\": \"a-icon a-icon-star-small a-star-small-4-5 aok-align-bottom\"}).text\n",
    "        review_count = soup.find(\"span\", {\"class\": \"a-size-base s-underline-text\"}).text\n",
    "    except AttributeError:\n",
    "        rating = ''\n",
    "        review_count = ''\n",
    "        \n",
    "    result = (description, price, rating, review_count, url)\n",
    "    \n",
    "    return result\n",
    "\n",
    "def main(search_term):\n",
    "    \"\"\"Run main program routine\"\"\"\n",
    "    \n",
    "    # startup the webdriver\n",
    "    driver = webdriver.Chrome()\n",
    "    records = []\n",
    "    url = get_url(search_term)\n",
    "    \n",
    "    for page in range(1, 21):\n",
    "        driver.get(url.format(page))\n",
    "        soup = BeautifulSoup(driver.page_source, 'html.parser')\n",
    "        results = soup.find_all(\"div\", {\"data-component-type\" : \"s-search-result\"})\n",
    "        for item in results:\n",
    "            record = extract_record(item)\n",
    "            if record:\n",
    "                records.append(record)\n",
    "                \n",
    "    driver.close()\n",
    "    \n",
    "    # save data to csv file (excel sheet)\n",
    "    with open('results.csv', 'w', newline='', encoding='utf-8') as f:\n",
    "        writer = csv.writer(f)\n",
    "        writer.writerow(['Description', 'Price', 'Rating', 'ReviewCount', 'Url'])\n",
    "        writer.writerows(records)"
   ]
  },
  {
   "cell_type": "code",
   "execution_count": 28,
   "metadata": {},
   "outputs": [],
   "source": [
    "main('ultrawide monitor')"
   ]
  },
  {
   "cell_type": "code",
   "execution_count": 34,
   "metadata": {},
   "outputs": [],
   "source": [
    "soup = BeautifulSoup(driver.page_source, 'html.parser')\n",
    "results = soup.find_all('div', {'data-component-type': 's-search-result'})\n",
    "item = results[0] #prototype model"
   ]
  },
  {
   "cell_type": "code",
   "execution_count": 57,
   "metadata": {},
   "outputs": [
    {
     "data": {
      "text/plain": [
       "'4.6 out of 5 stars'"
      ]
     },
     "execution_count": 57,
     "metadata": {},
     "output_type": "execute_result"
    }
   ],
   "source": [
    "item.i.text"
   ]
  },
  {
   "cell_type": "code",
   "execution_count": 67,
   "metadata": {},
   "outputs": [
    {
     "data": {
      "text/plain": [
       "'(733)'"
      ]
     },
     "execution_count": 67,
     "metadata": {},
     "output_type": "execute_result"
    }
   ],
   "source": [
    "review_count = item.find(\"span\", {\"class\": \"a-size-base s-underline-text\"}).text\n",
    "review_count"
   ]
  },
  {
   "cell_type": "code",
   "execution_count": 73,
   "metadata": {},
   "outputs": [],
   "source": [
    "#import the used libraries\n",
    "import csv \n",
    "from bs4 import BeautifulSoup\n",
    "from selenium import webdriver\n",
    "\n",
    "def get_url(search_text):\n",
    "    \"\"\"take the search term and generate it in all pages in the web\"\"\"\n",
    "    template = \"https://www.amazon.com/s?k={}&crid=15DNYWRD1AUTF&sprefix=ultrawide+monitor%2Caps%2C208&ref=nb_sb_noss_1\"\n",
    "    search_term = search_text.replace(' ','+') #replace empty string to +\n",
    "    url = template.format(search_term) #then put it in the template url variable\n",
    "    url += '&page{}' #add page query placeholder\n",
    "    return url\n",
    "\n",
    "def extract_record(item):\n",
    "    \"\"\"extract and return the data from single records\"\"\"\n",
    "    #description and url \n",
    "    atag = item.h2.a #html header\n",
    "    desc  = atag.text.strip() #header without html tag\n",
    "    url = 'https://www.amazon.com' + atag.get('href')\n",
    "    \n",
    "    #fetch the price\n",
    "    try:\n",
    "        price_parent = item.find(\"span\", {\"class\":\"a-price\"})\n",
    "        price = price_parent.find(\"span\", {\"class\": \"a-offscreen\"}).text\n",
    "    except AttributeError: \n",
    "        return\n",
    "    \n",
    "    #fetch the review and count review \n",
    "    try:\n",
    "        review = item.i.text #product rate\n",
    "        review_count = item.find(\"span\", {\"class\": \"a-size-base s-underline-text\"}).text\n",
    "    except AttributeError:\n",
    "        review = ''\n",
    "        review_count = ''\n",
    "        \n",
    "    data = (desc, price, review, review_count, url) #all data\n",
    "    return data\n",
    "\n",
    "\n",
    "def main(search_term):\n",
    "    #chrome driver\n",
    "    driver = webdriver.Chrome()\n",
    "    records = []\n",
    "    url = get_url(search_term)\n",
    "    \n",
    "    for page in range(1,21):\n",
    "        driver.get(url.format(page))\n",
    "        soup = BeautifulSoup(driver.page_source, 'html.parser')\n",
    "        results = soup.find_all('div', {'data-component-type': 's-search-result'})\n",
    "        for item in results:\n",
    "            record = extract_record(item)\n",
    "            if record:\n",
    "                records.append(record)\n",
    "    driver.close()\n",
    "    \n",
    "    # save data to csv file (excel sheet)\n",
    "    with open('results.csv', 'w', newline='', encoding='utf-8') as f:\n",
    "        writer = csv.writer(f)\n",
    "        writer.writerow(['Description', 'Price', 'Rating', 'ReviewCount', 'Url'])\n",
    "        writer.writerows(records)"
   ]
  },
  {
   "cell_type": "code",
   "execution_count": 74,
   "metadata": {},
   "outputs": [],
   "source": [
    "main(\"ultrawide monitor\")"
   ]
  }
 ],
 "metadata": {
  "kernelspec": {
   "display_name": "Python 3 (ipykernel)",
   "language": "python",
   "name": "python3"
  },
  "language_info": {
   "codemirror_mode": {
    "name": "ipython",
    "version": 3
   },
   "file_extension": ".py",
   "mimetype": "text/x-python",
   "name": "python",
   "nbconvert_exporter": "python",
   "pygments_lexer": "ipython3",
   "version": "3.9.12"
  },
  "vscode": {
   "interpreter": {
    "hash": "29abe0fa381fc6a9a158ff9dc0082afd6a95bb7e967f3550c8fecf3ed8fd6404"
   }
  }
 },
 "nbformat": 4,
 "nbformat_minor": 2
}
